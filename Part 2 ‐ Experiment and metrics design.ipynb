{
 "cells": [
  {
   "cell_type": "markdown",
   "id": "993eda51",
   "metadata": {},
   "source": [
    "The neighboring towns of Gotham and Metropolis have complementary circadian rhythms: on weekdays, Ultimate Gotham is maximum energetic at night, and Ultimate Metropolis is maximum energetic at some point of the day. On weekends, there's affordable pastime in each towns.\n",
    "\n",
    "However, a toll bridge, with a  manner toll, among the 2 towns reasons driving force companions to have a tendency to be different to every metropolis. The Ultimate managers of metropolis operations for the 2 towns have proposed an test to inspire driving force companions to be to be had in each towns, via way of means of reimbursing all toll prices.\n",
    "\n",
    "What could you pick as the important thing degree of achievement of this test in encouraging driving force companions to serve each towns, and why could you pick this metric?\n",
    "I could examine  metrics for figuring out the achievement of the test. First, I could examine the variety of drivers that made a ride in a day. If the variety of drivers to be had has increased, then one purpose for the boom might be drivers from every other metropolis crossing the bridge. However, it is able to additionally simply be a fashionable boom because of a better hobby withinside the job.\n",
    "\n",
    "If possible, I could tag drivers with their metropolis of choice. If a driving force on the whole takes rides in Gotham, then they could be labelled as a Gotham driving force. Then, the metric of achievement will be the charge of rides taken outdoor of a drivers number one metropolis. This could require statistics that might not be to be had, however it'd provide a higher estimation of the experiments achievement wihtout having to account for outside elements\n",
    "\n",
    "Describe a sensible test you'll layout to examine the effectiveness of the proposed alternate when it comes to the important thing degree of achievement. Please offer info on:\n",
    "a. how you'll put in force the test\n",
    "\n",
    "b. what statistical check(s) you'll behavior to affirm the importance of the observation\n",
    "\n",
    "c. how you'll interpret the outcomes and offer tips to the metropolis operations crew along side any caveats.\n",
    "\n",
    "a. I could put in force an A/B check that splits the drivers right into a advertising set and a with out advertising set. It's essential to divide the drivers alongside the proper feature. If you divide the riders via way of means of metropolis, you won't recognize how the specific towns effect the test. If you divide via way of means of day of the week, you would possibly pass over elements relationg to pastime at the weekends. Instead, I could break up the drivers lightly via way of means of metropolis and days of availability.\n",
    "\n",
    "Drivers with the advertising could be notified that their toll bridge prices could be reimbursed, and drivers with out the advertising could now no longer be notified. After a few quantity of days, relying on the quantity of statistics capable of be collected, an evaluation could be run on the 2 sets.\n",
    "\n",
    "b. A statistical t-check could be run at the method of the statistics to decide if the test had a vast effect on driving force availability. The null speculation could be that the test had no impact, and the opportunity speculation could be that the test confirmed an development in driving force availability.\n",
    "\n",
    "c. If the outcomes confirmed a statistically vast development in driving force availibility, I could inspect the fee evaluation of the sort of alternate. The variety of journey reimbursements may have an effect on operations. It could additionally be essential to examine the statistics for character days. If driving force availibility simplest progressed at the weekend while each sities are energetic, then extra incentives could be wished relying on demand. Further A/B checking out can be required to look if the advertising impact might be progressed in any manner.\n"
   ]
  },
  {
   "cell_type": "code",
   "execution_count": null,
   "id": "f740e15c",
   "metadata": {},
   "outputs": [],
   "source": []
  }
 ],
 "metadata": {
  "kernelspec": {
   "display_name": "Python 3 (ipykernel)",
   "language": "python",
   "name": "python3"
  },
  "language_info": {
   "codemirror_mode": {
    "name": "ipython",
    "version": 3
   },
   "file_extension": ".py",
   "mimetype": "text/x-python",
   "name": "python",
   "nbconvert_exporter": "python",
   "pygments_lexer": "ipython3",
   "version": "3.9.12"
  }
 },
 "nbformat": 4,
 "nbformat_minor": 5
}
